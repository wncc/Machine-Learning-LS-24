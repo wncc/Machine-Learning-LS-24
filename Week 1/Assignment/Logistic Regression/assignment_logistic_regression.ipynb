{
  "cells": [
    {
      "cell_type": "markdown",
      "metadata": {
        "id": "wNEUsAHHCGk2"
      },
      "source": [
        "##ASSIGNMENT\n",
        "#Dataset\n",
        "Assume you are a scientist who is trying to make a propellent and is trying many tests to make an efficient propellent .\n",
        "<br>\n",
        "You have performed two tests.\n",
        "<br>\n",
        "From the two tests you would like whether this propellent works efficiently or not.\n",
        "Build your own logistic regression model to decide .\n",
        "<br>\n",
        "Text with \"DO NOT EDIT THIS CODE\" needs to be only run do not edit it\n"
      ]
    },
    {
      "cell_type": "code",
      "execution_count": 3,
      "metadata": {
        "id": "xJm_XXJo4RDg"
      },
      "outputs": [],
      "source": [
        "#import libraries\n",
        "#write your code.\n",
        "import numpy as np\n",
        "import pandas as pd\n",
        "import matplotlib.pyplot as plt\n",
        "import math\n"
      ]
    },
    {
      "cell_type": "code",
      "execution_count": 4,
      "metadata": {
        "id": "YtL0jW6m4e1A"
      },
      "outputs": [],
      "source": [
        "#load data\n",
        "data=np.loadtxt(\"data.txt\", delimiter=',')\n",
        "X=data[:,:2]\n",
        "y=data[:,2]\n",
        "X_train=X\n",
        "y_train=y\n"
      ]
    },
    {
      "cell_type": "code",
      "execution_count": 5,
      "metadata": {
        "id": "Bk2qYHyk4mNm"
      },
      "outputs": [],
      "source": [
        "#plot data to visualise\n",
        "def plot_data(X,y,positive_label=\"y=1\", negative_label=\"y=0\"):\n",
        "#positive_label and negative_label refers to classes of y as y can be 0 or 1\n",
        "    positive = y == 1\n",
        "    negative = y == 0\n",
        "    plt.plot(X[positive, 0], X[positive, 1], 'k+', label=positive_label)\n",
        "    plt.plot(X[negative, 0], X[negative, 1], 'yo', label=negative_label)\n",
        "#While plotting graph the label parameter will be either positive_label or negative_label so plot both the labels for\n"
      ]
    },
    {
      "cell_type": "code",
      "execution_count": 6,
      "metadata": {
        "id": "RzsMdrwv58tQ"
      },
      "outputs": [
        {
          "data": {
            "image/png": "[encoded data removed]",
            "text/plain": [
              "<Figure size 640x480 with 1 Axes>"
            ]
          },
          "metadata": {},
          "output_type": "display_data"
        }
      ],
      "source": [
        "#test\n",
        "plot_data(X_train, y_train[:], positive_label=\"Accepted\", negative_label=\"Rejected\")\n",
        "\n",
        "\n",
        "plt.xlabel('Test 2')\n",
        "plt.ylabel('Test 1')\n",
        "plt.legend(loc=\"upper right\")\n",
        "plt.show()"
      ]
    },
    {
      "cell_type": "code",
      "execution_count": 7,
      "metadata": {
        "id": "KhRBdaFi6nKo"
      },
      "outputs": [],
      "source": [
        "#feature mapping\n",
        "def map_feature(X1,X2):\n",
        "  X1=np.atleast_1d(X1)\n",
        "  X2=np.atleast_1d(X2)\n",
        "  degree=6\n",
        "  out=[]\n",
        "  for i in range(1,degree+1):\n",
        "    for j in range(i+1):\n",
        "      out.append((X1**(i-j) * (X2**j)))\n",
        "  return np.stack(out, axis=1)"
      ]
    },
    {
      "cell_type": "code",
      "execution_count": 8,
      "metadata": {
        "id": "PNS4kJfq6_m8"
      },
      "outputs": [
        {
          "name": "stdout",
          "output_type": "stream",
          "text": [
            "Original shape of data: (118, 2)\n",
            "Shape after feature mapping: (118, 27)\n"
          ]
        }
      ],
      "source": [
        "print(\"Original shape of data:\", X_train.shape)\n",
        "\n",
        "mapped_X =  map_feature(X_train[:, 0], X_train[:, 1])\n",
        "print(\"Shape after feature mapping:\", mapped_X.shape)"
      ]
    },
    {
      "cell_type": "code",
      "execution_count": 9,
      "metadata": {
        "cellView": "form",
        "id": "BqlxZOXoHh4z"
      },
      "outputs": [],
      "source": [
        "# @title DO NOT EDIT THIS CODE\n",
        "def sigmoid_test(target):\n",
        "    assert np.isclose(target(3.0), 0.9525741268224334), \"Failed for scalar input\"\n",
        "    assert np.allclose(target(np.array([2.5, 0])), [0.92414182, 0.5]), \"Failed for 1D array\"\n",
        "    assert np.allclose(target(np.array([[2.5, -2.5], [0, 1]])),\n",
        "                       [[0.92414182, 0.07585818], [0.5, 0.73105858]]), \"Failed for 2D array\"\n",
        "    print('\\033[92mTests passed!')"
      ]
    },
    {
      "cell_type": "code",
      "execution_count": 10,
      "metadata": {
        "id": "wdgE-ay07C0P"
      },
      "outputs": [],
      "source": [
        "#sigmoid function\n",
        "def sigmoid(z):\n",
        "#write your code\n",
        "\n",
        "    return 1/(1 + np.exp(-z))\n",
        "\n"
      ]
    },
    {
      "cell_type": "code",
      "execution_count": 11,
      "metadata": {
        "id": "9XOlXXyxHnmB"
      },
      "outputs": [
        {
          "name": "stdout",
          "output_type": "stream",
          "text": [
            "\u001b[92mTests passed!\n"
          ]
        }
      ],
      "source": [
        "sigmoid_test(sigmoid)\n"
      ]
    },
    {
      "cell_type": "code",
      "execution_count": 12,
      "metadata": {
        "cellView": "form",
        "id": "QLqfyxPrH-v-"
      },
      "outputs": [],
      "source": [
        "# @title DO NOT EDIT THIS CODE\n",
        "def compute_cost_test(target):\n",
        "    X = np.array([[0, 0, 0, 0]]).T\n",
        "    y = np.array([0, 0, 0, 0])\n",
        "    w = np.array([0])\n",
        "    b = 1\n",
        "    result = target(X, y, w, b)\n",
        "    if math.isinf(result):\n",
        "        raise ValueError(\"Did you get the sigmoid of z_wb?\")\n",
        "\n",
        "    np.random.seed(17)\n",
        "    X = np.random.randn(5, 2)\n",
        "    y = np.array([1, 0, 0, 1, 1])\n",
        "    w = np.random.randn(2)\n",
        "    b = 0\n",
        "    result = target(X, y, w, b)\n",
        "    assert np.isclose(result, 2.15510667), f\"Wrong output. Expected: {2.15510667} got: {result}\"\n",
        "\n",
        "    X = np.random.randn(4, 3)\n",
        "    y = np.array([1, 1, 0, 0])\n",
        "    w = np.random.randn(3)\n",
        "    b = 0\n",
        "\n",
        "    result = target(X, y, w, b)\n",
        "    assert np.isclose(result, 0.80709376), f\"Wrong output. Expected: {0.80709376} got: {result}\"\n",
        "\n",
        "    X = np.random.randn(4, 3)\n",
        "    y = np.array([1, 0,1, 0])\n",
        "    w = np.random.randn(3)\n",
        "    b = 3\n",
        "    result = target(X, y, w, b)\n",
        "    assert np.isclose(result, 0.4529660647), f\"Wrong output. Expected: {0.4529660647} got: {result}. Did you inizialized z_wb = b?\"\n",
        "\n",
        "    print('\\033[92mTests passed!')"
      ]
    },
    {
      "cell_type": "code",
      "execution_count": 13,
      "metadata": {
        "id": "PRIqcpJ17MzH"
      },
      "outputs": [],
      "source": [
        "#computing cost\n",
        "def compute_cost(X,y,w,b,lambda_=1):\n",
        "#write your code\n",
        "  total_cost = 0 \n",
        "  for i in range (X.shape[0]):\n",
        "    k = sigmoid ( np.dot(w , X[i,: ]) + b )\n",
        "    total_cost += y[i]*( np.log(k)) + (1 - y[i])*(np.log(1 - k))\n",
        "\n",
        "  return (-1/X.shape[0])*total_cost"
      ]
    },
    {
      "cell_type": "code",
      "execution_count": 14,
      "metadata": {
        "id": "MPOvLzL5H5-5"
      },
      "outputs": [
        {
          "name": "stdout",
          "output_type": "stream",
          "text": [
            "Cost at test w,b: 11.777\n",
            "\u001b[92mTests passed!\n"
          ]
        }
      ],
      "source": [
        "test_w = np.array([0.2, 0.2])\n",
        "test_b = -24.\n",
        "cost = compute_cost(X_train, y_train, test_w, test_b)\n",
        "\n",
        "print('Cost at test w,b: {:.3f}'.format(cost))\n",
        "\n",
        "\n",
        "# test\n",
        "compute_cost_test(compute_cost)"
      ]
    },
    {
      "cell_type": "code",
      "execution_count": 15,
      "metadata": {
        "id": "ULkWUBkO7ffh"
      },
      "outputs": [],
      "source": [
        "#compute regularised cost\n",
        "def compute_cost_reg(X, y, w, b, lambda_ = 1):\n",
        "#write your code\n",
        "  total_cost = 0 \n",
        "  for i in range (X.shape[0]):\n",
        "    k = sigmoid ( np.dot(w , X[i,: ]) + b )\n",
        "    total_cost += y[i]*( np.log(k)) + (1 - y[i])*(np.log(1 - k)) \n",
        "  w_sq = w**2\n",
        "  val = (lambda_/(2*X.shape[0]))*(np.sum(w_sq))  \n",
        "\n",
        "  return (-1/X.shape[0])*total_cost + val"
      ]
    },
    {
      "cell_type": "code",
      "execution_count": 16,
      "metadata": {
        "cellView": "form",
        "id": "OhFbPakDGKQj"
      },
      "outputs": [],
      "source": [
        "# @title DO NOT EDIT THIS CODE\n",
        "def compute_cost_reg_test(target):\n",
        "    np.random.seed(1)\n",
        "    w = np.random.randn(3)\n",
        "    b = 0.4\n",
        "    X = np.random.randn(6, 3)\n",
        "    y = np.array([0, 1, 1, 0, 1, 1])\n",
        "    lambda_ = 0.1\n",
        "    expected_output = target(X, y, w, b, lambda_)\n",
        "\n",
        "    assert np.isclose(expected_output, 0.5469746792761936), f\"Wrong output. Expected: {0.5469746792761936} got:{expected_output}\"\n",
        "\n",
        "    w = np.random.randn(5)\n",
        "    b = -0.6\n",
        "    X = np.random.randn(8, 5)\n",
        "    y = np.array([1, 0, 1, 0, 0, 1, 0, 1])\n",
        "    lambda_ = 0.01\n",
        "    output = target(X, y, w, b, lambda_)\n",
        "    assert np.isclose(output, 1.2608591964119995), f\"Wrong output. Expected: {1.2608591964119995} got:{output}\"\n",
        "\n",
        "    w = np.array([2, 2, 2, 2, 2])\n",
        "    b = 0\n",
        "    X = np.zeros((8, 5))\n",
        "    y = np.array([0.5] * 8)\n",
        "    lambda_ = 3\n",
        "    output = target(X, y, w, b, lambda_)\n",
        "    expected = -np.log(0.5) + 3. / (2. * 8.) * 20.\n",
        "    assert np.isclose(output, expected), f\"Wrong output. Expected: {expected} got:{output}\"\n",
        "\n",
        "    print('\\033[92mAll tests passed!')"
      ]
    },
    {
      "cell_type": "code",
      "execution_count": 17,
      "metadata": {
        "id": "jO14e7OD7syR"
      },
      "outputs": [
        {
          "name": "stdout",
          "output_type": "stream",
          "text": [
            "Regularised cost : 0.6618252552483948\n",
            "\u001b[92mAll tests passed!\n"
          ]
        }
      ],
      "source": [
        "X_mapped = map_feature(X_train[:, 0], X_train[:, 1])\n",
        "np.random.seed(1)\n",
        "initial_w = np.random.rand(X_mapped.shape[1]) - 0.5\n",
        "initial_b = 0.5\n",
        "lambda_ = 0.5\n",
        "cost = compute_cost_reg(X_mapped, y_train, initial_w, initial_b, lambda_)\n",
        "\n",
        "print(\"Regularised cost :\", cost)\n",
        "\n",
        "#test\n",
        "compute_cost_reg_test(compute_cost_reg)"
      ]
    },
    {
      "cell_type": "code",
      "execution_count": 18,
      "metadata": {
        "cellView": "form",
        "id": "plQBUPM2IRei"
      },
      "outputs": [],
      "source": [
        "# @title DO NOT EDIT THIS CODE\n",
        "def compute_gradient_test(target):\n",
        "    np.random.seed(1)\n",
        "    X = np.random.randn(7, 3)\n",
        "    y = np.array([1, 0, 1, 0, 1, 1, 0])\n",
        "    test_w = np.array([1, 0.5, -0.35])\n",
        "    test_b = 1.7\n",
        "    dj_db, dj_dw  = target(X, y, test_w, test_b)\n",
        "\n",
        "    assert np.isclose(dj_db, 0.28936094), f\"Wrong value for dj_db. Expected: {0.28936094} got: {dj_db}\"\n",
        "    assert dj_dw.shape == test_w.shape, f\"Wrong shape for dj_dw. Expected: {test_w.shape} got: {dj_dw.shape}\"\n",
        "    assert np.allclose(dj_dw, [-0.11999166, 0.41498775, -0.71968405]), f\"Wrong values for dj_dw. Got: {dj_dw}\"\n",
        "\n",
        "    print('\\033[92mTests passed!')"
      ]
    },
    {
      "cell_type": "code",
      "execution_count": 19,
      "metadata": {
        "id": "v27SzhYX8-ug"
      },
      "outputs": [],
      "source": [
        "#compute gradient\n",
        "def compute_gradient(X, y, w, b, lambda_=None):\n",
        "#write your code\n",
        "    m,n = X.shape          \n",
        "    dj_dw = np.zeros((n,))\n",
        "    dj_db = 0\n",
        "\n",
        "    for i in range(m):                             \n",
        "        err = (sigmoid(np.dot(X[i], w) + b) - y[i])\n",
        "        for j in range(n):                         \n",
        "            dj_dw[j] = dj_dw[j] + err * X[i][j]   \n",
        "        dj_db = dj_db + err                        \n",
        "    dj_dw = dj_dw / m                                \n",
        "    dj_db = dj_db / m  \n",
        "\n",
        "    return dj_db,dj_dw"
      ]
    },
    {
      "cell_type": "code",
      "execution_count": 20,
      "metadata": {
        "id": "WLmFL2yuIPUA"
      },
      "outputs": [
        {
          "name": "stdout",
          "output_type": "stream",
          "text": [
            "dj_db at test_w: -0.4915254236924827\n",
            "dj_dw at test_w: [-0.008601361012465367, -0.09147300847306211]\n",
            "\u001b[92mTests passed!\n"
          ]
        }
      ],
      "source": [
        "test_w = np.array([ 0.2, -0.5])\n",
        "test_b = -24\n",
        "dj_db, dj_dw  = compute_gradient(X_train, y_train, test_w, test_b)\n",
        "\n",
        "print('dj_db at test_w:', dj_db)\n",
        "print('dj_dw at test_w:', dj_dw.tolist())\n",
        "\n",
        "# test\n",
        "compute_gradient_test(compute_gradient)"
      ]
    },
    {
      "cell_type": "code",
      "execution_count": 21,
      "metadata": {
        "id": "TGfUArz09TMl"
      },
      "outputs": [],
      "source": [
        "#compute regularised gradient\n",
        "def compute_gradient_reg(X, y, w, b, lambda_=1):\n",
        "#write your code\n",
        "\n",
        "    m,n = X.shape          \n",
        "    dj_dw = np.zeros((n,))\n",
        "    dj_db = 0\n",
        "\n",
        "    for i in range(m):                             \n",
        "        err = (sigmoid(np.dot(X[i], w) + b) - y[i])\n",
        "        for j in range(n):                         \n",
        "            dj_dw[j] = dj_dw[j] + err * X[i][j]   \n",
        "        dj_db = dj_db + err                        \n",
        "    dj_dw = dj_dw / m                                \n",
        "    dj_db = dj_db / m  \n",
        "\n",
        "  \n",
        "    for j in range(n):\n",
        "        dj_dw[j] = dj_dw[j] + (lambda_/m) * w[j]\n",
        "\n",
        "\n",
        "    return dj_db,dj_dw"
      ]
    },
    {
      "cell_type": "code",
      "execution_count": 22,
      "metadata": {
        "cellView": "form",
        "id": "KNRCWIc8G2cp"
      },
      "outputs": [],
      "source": [
        "# @title DO NOT EDIT THIS CODE\n",
        "def compute_gradient_reg_test(target):\n",
        "    np.random.seed(1)\n",
        "    w = np.random.randn(5)\n",
        "    b = 0.2\n",
        "    X = np.random.randn(7, 5)\n",
        "    y = np.array([0, 1, 1, 0, 1, 1, 0])\n",
        "    lambda_ = 0.1\n",
        "    expected1 = (-0.1506447567869257, np.array([ 0.19530838, -0.00632206,  0.19687367,  0.15741161,  0.02791437]))\n",
        "    dj_db, dj_dw = target(X, y, w, b, lambda_)\n",
        "\n",
        "    assert np.isclose(dj_db, expected1[0]), f\"Wrong dj_db. Expected: {expected1[0]} got: {dj_db}\"\n",
        "    assert np.allclose(dj_dw, expected1[1]), f\"Wrong dj_dw. Expected: {expected1[1]} got: {dj_dw}\"\n",
        "\n",
        "\n",
        "    w = np.random.randn(7)\n",
        "    b = 0\n",
        "    X = np.random.randn(7, 7)\n",
        "    y = np.array([1, 0, 0, 0, 1, 1, 0])\n",
        "    lambda_ = 0\n",
        "    expected2 = (0.02660329857573818, np.array([ 0.23567643, -0.06921029, -0.19705212, -0.0002884 ,  0.06490588,\n",
        "        0.26948175,  0.10777992]))\n",
        "    dj_db, dj_dw = target(X, y, w, b, lambda_)\n",
        "    assert np.isclose(dj_db, expected2[0]), f\"Wrong dj_db. Expected: {expected2[0]} got: {dj_db}\"\n",
        "    assert np.allclose(dj_dw, expected2[1]), f\"Wrong dj_dw. Expected: {expected2[1]} got: {dj_dw}\"\n",
        "\n",
        "    print('\\033[92mTests passed!')"
      ]
    },
    {
      "cell_type": "code",
      "execution_count": 23,
      "metadata": {
        "id": "3_of_BHJ9hEc"
      },
      "outputs": [
        {
          "name": "stdout",
          "output_type": "stream",
          "text": [
            "dj_db: 0.07138288792343662\n",
            "\u001b[92mTests passed!\n"
          ]
        }
      ],
      "source": [
        "X_mapped = map_feature(X_train[:, 0], X_train[:, 1])\n",
        "np.random.seed(1)\n",
        "initial_w  = np.random.rand(X_mapped.shape[1]) - 0.5\n",
        "initial_b = 0.5\n",
        "\n",
        "lambda_ = 0.5\n",
        "dj_db, dj_dw = compute_gradient_reg(X_mapped, y_train, initial_w, initial_b, lambda_)\n",
        "\n",
        "print(f\"dj_db: {dj_db}\" )\n",
        "#test\n",
        "compute_gradient_reg_test(compute_gradient_reg)"
      ]
    },
    {
      "cell_type": "code",
      "execution_count": 24,
      "metadata": {
        "id": "c5y3Nb9Z_SC4"
      },
      "outputs": [
        {
          "name": "stdout",
          "output_type": "stream",
          "text": [
            "Cost at step 0 is 0.7216799451982897\n",
            "Cost at step 50 is 0.5443507544559208\n",
            "Cost at step 100 is 0.4972830585711196\n",
            "Cost at step 150 is 0.4666823929638458\n",
            "Cost at step 200 is 0.44518312064240434\n",
            "Cost at step 250 is 0.42926897589199214\n",
            "Cost at step 300 is 0.41704126604951086\n",
            "Cost at step 350 is 0.40737919953608653\n",
            "Cost at step 400 is 0.39957545160258073\n",
            "Cost at step 450 is 0.3931601011252585\n",
            "Cost at step 500 is 0.3878080929158602\n",
            "Cost at step 550 is 0.38328718144461404\n",
            "Cost at step 600 is 0.37942697689607446\n",
            "Cost at step 650 is 0.37609967824813356\n",
            "Cost at step 700 is 0.37320761578518813\n",
            "Cost at step 750 is 0.3706749345363413\n",
            "Cost at step 800 is 0.3684418890278508\n",
            "Cost at step 850 is 0.36646083675367375\n",
            "Cost at step 900 is 0.3646933667511324\n",
            "Cost at step 950 is 0.36310820459837156\n",
            "Cost at step 1000 is 0.3616796595032306\n",
            "Cost at step 1050 is 0.36038645681944725\n",
            "Cost at step 1100 is 0.3592108490855492\n",
            "Cost at step 1150 is 0.35813793129190336\n",
            "Cost at step 1200 is 0.3571551078895604\n",
            "Cost at step 1250 is 0.356251673906619\n",
            "Cost at step 1300 is 0.35541848282044375\n",
            "Cost at step 1350 is 0.3546476810603071\n",
            "Cost at step 1400 is 0.35393249416327455\n",
            "Cost at step 1450 is 0.35326705332022673\n",
            "Cost at step 1500 is 0.35264625375954584\n",
            "Cost at step 1550 is 0.3520656384155411\n",
            "Cost at step 1600 is 0.35152130181845487\n",
            "Cost at step 1650 is 0.35100981026316536\n",
            "Cost at step 1700 is 0.35052813516344944\n",
            "Cost at step 1750 is 0.35007359714847486\n",
            "Cost at step 1800 is 0.3496438189588961\n",
            "Cost at step 1850 is 0.3492366855885286\n",
            "Cost at step 1900 is 0.348850310421217\n",
            "Cost at step 1950 is 0.348483006351294\n",
            "Cost at step 2000 is 0.3481332610649329\n",
            "Cost at step 2050 is 0.34779971581003843\n",
            "Cost at step 2100 is 0.3474811471025678\n",
            "Cost at step 2150 is 0.34717645091392724\n",
            "Cost at step 2200 is 0.346884628962251\n",
            "Cost at step 2250 is 0.3466047767938546\n",
            "Cost at step 2300 is 0.3463360733929556\n",
            "Cost at step 2350 is 0.3460777721001504\n",
            "Cost at step 2400 is 0.34582919265506734\n",
            "Cost at step 2450 is 0.3455897142074061\n",
            "Cost at step 2500 is 0.3453587691644837\n",
            "Cost at step 2550 is 0.34513583776327894\n",
            "Cost at step 2600 is 0.34492044327156135\n",
            "Cost at step 2650 is 0.34471214773658987\n",
            "Cost at step 2700 is 0.34451054821155797\n",
            "Cost at step 2750 is 0.3443152733997969\n",
            "Cost at step 2800 is 0.3441259806650875\n",
            "Cost at step 2850 is 0.34394235336347845\n",
            "Cost at step 2900 is 0.3437640984580255\n",
            "Cost at step 2950 is 0.3435909443829737\n",
            "Cost at step 3000 is 0.3434226391282811\n",
            "Cost at step 3050 is 0.3432589485191346\n",
            "Cost at step 3100 is 0.34309965466832476\n",
            "Cost at step 3150 is 0.3429445545821205\n",
            "Cost at step 3200 is 0.3427934589026705\n",
            "Cost at step 3250 is 0.3426461907720394\n",
            "Cost at step 3300 is 0.34250258480476425\n",
            "Cost at step 3350 is 0.34236248615738246\n",
            "Cost at step 3400 is 0.3422257496847357\n",
            "Cost at step 3450 is 0.3420922391740334\n",
            "Cost at step 3500 is 0.34196182664868896\n",
            "Cost at step 3550 is 0.3418343917348501\n",
            "Cost at step 3600 is 0.3417098210843262\n",
            "Cost at step 3650 is 0.34158800784832244\n",
            "Cost at step 3700 is 0.34146885119698683\n",
            "Cost at step 3750 is 0.34135225588032675\n",
            "Cost at step 3800 is 0.34123813182651813\n",
            "Cost at step 3850 is 0.34112639377405435\n",
            "Cost at step 3900 is 0.341016960934549\n",
            "Cost at step 3950 is 0.3409097566833399\n",
            "Cost at step 4000 is 0.34080470827532994\n",
            "Cost at step 4050 is 0.34070174658376223\n",
            "Cost at step 4100 is 0.34060080585985486\n",
            "Cost at step 4150 is 0.340501823511429\n",
            "Cost at step 4200 is 0.3404047398988484\n",
            "Cost at step 4250 is 0.34030949814674416\n",
            "Cost at step 4300 is 0.34021604397015776\n",
            "Cost at step 4350 is 0.34012432551385724\n",
            "Cost at step 4400 is 0.34003429320369705\n",
            "Cost at step 4450 is 0.3399458996090103\n",
            "Cost at step 4500 is 0.33985909931510044\n",
            "Cost at step 4550 is 0.33977384880499834\n",
            "Cost at step 4600 is 0.339690106349717\n",
            "Cost at step 4650 is 0.33960783190631405\n",
            "Cost at step 4700 is 0.3395269870231266\n",
            "Cost at step 4750 is 0.33944753475160433\n",
            "Cost at step 4800 is 0.33936943956421683\n",
            "Cost at step 4850 is 0.33929266727795415\n",
            "Cost at step 4900 is 0.33921718498298403\n",
            "Cost at step 4950 is 0.3391429609760693\n",
            "Cost at step 5000 is 0.3390699646983718\n",
            "Cost at step 5050 is 0.3389981666773182\n",
            "Cost at step 5100 is 0.3389275384722137\n",
            "Cost at step 5150 is 0.3388580526233264\n",
            "Cost at step 5200 is 0.33878968260418413\n",
            "Cost at step 5250 is 0.3387224027768462\n",
            "Cost at step 5300 is 0.3386561883499343\n",
            "Cost at step 5350 is 0.3385910153392217\n",
            "Cost at step 5400 is 0.33852686053059944\n",
            "Cost at step 5450 is 0.3384637014452473\n",
            "Cost at step 5500 is 0.3384015163068572\n",
            "Cost at step 5550 is 0.33834028401076344\n",
            "Cost at step 5600 is 0.3382799840948492\n",
            "Cost at step 5650 is 0.33822059671210697\n",
            "Cost at step 5700 is 0.33816210260473895\n",
            "Cost at step 5750 is 0.3381044830796975\n",
            "Cost at step 5800 is 0.33804771998556404\n",
            "Cost at step 5850 is 0.3379917956906827\n",
            "Cost at step 5900 is 0.3379366930624627\n",
            "Cost at step 5950 is 0.33788239544777565\n",
            "Cost at step 6000 is 0.3378288866543784\n",
            "Cost at step 6050 is 0.33777615093329094\n",
            "Cost at step 6100 is 0.3377241729620755\n",
            "Cost at step 6150 is 0.33767293782895463\n",
            "Cost at step 6200 is 0.3376224310177214\n",
            "Cost at step 6250 is 0.33757263839338936\n",
            "Cost at step 6300 is 0.33752354618853764\n",
            "Cost at step 6350 is 0.3374751409903114\n",
            "Cost at step 6400 is 0.3374274097280367\n",
            "Cost at step 6450 is 0.3373803396614147\n",
            "Cost at step 6500 is 0.3373339183692596\n",
            "Cost at step 6550 is 0.3372881337387505\n",
            "Cost at step 6600 is 0.33724297395516867\n",
            "Cost at step 6650 is 0.3371984274920876\n",
            "Cost at step 6700 is 0.3371544831019982\n",
            "Cost at step 6750 is 0.33711112980733715\n",
            "Cost at step 6800 is 0.3370683568919035\n",
            "Cost at step 6850 is 0.3370261538926348\n",
            "Cost at step 6900 is 0.3369845105917306\n",
            "Cost at step 6950 is 0.3369434170090998\n",
            "Cost at step 7000 is 0.3369028633951176\n",
            "Cost at step 7050 is 0.3368628402236738\n",
            "Cost at step 7100 is 0.33682333818549887\n",
            "Cost at step 7150 is 0.3367843481817544\n",
            "Cost at step 7200 is 0.33674586131787015\n",
            "Cost at step 7250 is 0.3367078688976231\n",
            "Cost at step 7300 is 0.3366703624174383\n",
            "Cost at step 7350 is 0.33663333356090525\n",
            "Cost at step 7400 is 0.3365967741935001\n",
            "Cost at step 7450 is 0.3365606763574998\n",
            "Cost at step 7500 is 0.33652503226708486\n",
            "Cost at step 7550 is 0.3364898343036139\n",
            "Cost at step 7600 is 0.33645507501107125\n",
            "Cost at step 7650 is 0.3364207470916725\n",
            "Cost at step 7700 is 0.33638684340162417\n",
            "Cost at step 7750 is 0.3363533569470301\n",
            "Cost at step 7800 is 0.3363202808799374\n",
            "Cost at step 7850 is 0.3362876084945157\n",
            "Cost at step 7900 is 0.33625533322336704\n",
            "Cost at step 7950 is 0.33622344863395365\n",
            "Cost at step 8000 is 0.3361919484251488\n",
            "Cost at step 8050 is 0.33616082642389383\n",
            "Cost at step 8100 is 0.33613007658196875\n",
            "Cost at step 8150 is 0.33609969297286146\n",
            "Cost at step 8200 is 0.3360696697887388\n",
            "Cost at step 8250 is 0.3360400013375115\n",
            "Cost at step 8300 is 0.3360106820399905\n",
            "Cost at step 8350 is 0.335981706427132\n",
            "Cost at step 8400 is 0.33595306913736317\n",
            "Cost at step 8450 is 0.33592476491399503\n",
            "Cost at step 8500 is 0.33589678860270605\n",
            "Cost at step 8550 is 0.33586913514910566\n",
            "Cost at step 8600 is 0.335841799596369\n",
            "Cost at step 8650 is 0.3358147770829381\n",
            "Cost at step 8700 is 0.33578806284029394\n",
            "Cost at step 8750 is 0.3357616521907897\n",
            "Cost at step 8800 is 0.33573554054554805\n",
            "Cost at step 8850 is 0.3357097234024171\n",
            "Cost at step 8900 is 0.33568419634398405\n",
            "Cost at step 8950 is 0.33565895503564586\n",
            "Cost at step 9000 is 0.3356339952237309\n",
            "Cost at step 9050 is 0.3356093127336762\n",
            "Cost at step 9100 is 0.3355849034682505\n",
            "Cost at step 9150 is 0.33556076340582996\n",
            "Cost at step 9200 is 0.33553688859871683\n",
            "Cost at step 9250 is 0.3355132751715053\n",
            "Cost at step 9300 is 0.33548991931949074\n",
            "Cost at step 9350 is 0.335466817307122\n",
            "Cost at step 9400 is 0.33544396546649113\n",
            "Cost at step 9450 is 0.335421360195868\n",
            "Cost at step 9500 is 0.3353989979582685\n",
            "Cost at step 9550 is 0.33537687528006094\n",
            "Cost at step 9600 is 0.3353549887496118\n",
            "Cost at step 9650 is 0.3353333350159594\n",
            "Cost at step 9700 is 0.33531191078752864\n",
            "Cost at step 9750 is 0.33529071283087275\n",
            "Cost at step 9800 is 0.3352697379694503\n",
            "Cost at step 9850 is 0.33524898308242884\n",
            "Cost at step 9900 is 0.3352284451035243\n",
            "Cost at step 9950 is 0.3352081210198619\n"
          ]
        }
      ],
      "source": [
        "np.random.seed(1)\n",
        "initial_w = np.random.rand(X_mapped.shape[1])-0.5\n",
        "initial_b = 1.\n",
        "lambda_ = 0.01\n",
        "iterations = 10000\n",
        "alpha = 0.5\n",
        "def gradient_descent(X_mapped, y_train, initial_w, initial_b,\n",
        "                                    compute_cost_reg, compute_gradient_reg,\n",
        "                                    alpha, iterations, lambda_):\n",
        "\n",
        "#write your code\n",
        "  w = initial_w\n",
        "  b = initial_b\n",
        "  J_history = []\n",
        "  for i in range(iterations):\n",
        "   \n",
        "    if ( i%50 == 0):\n",
        "      print( f\"Cost at step {i} is {compute_cost_reg(X_mapped , y_train ,w, b ,lambda_)}\")\n",
        "   \n",
        "    dj_db , dj_dw = compute_gradient_reg(X_mapped, y_train, w, b, lambda_)\n",
        "    w  = w - alpha*dj_dw\n",
        "    b  = b - alpha*dj_db\n",
        "    J_history.append(compute_cost_reg(X_mapped , y , w, b ,lambda_))\n",
        "  \n",
        "\n",
        "  return w, b, J_history, _\n",
        "\n",
        "w,b, J_history,_ = gradient_descent(X_mapped, y_train, initial_w, initial_b,\n",
        "                                    compute_cost_reg, compute_gradient_reg,\n",
        "                                    alpha, iterations, lambda_)"
      ]
    },
    {
      "cell_type": "code",
      "execution_count": 25,
      "metadata": {
        "id": "cqSOrJsTAf9p"
      },
      "outputs": [],
      "source": [
        "#plot decision boundary\n",
        "def plot_decision_boundary(w,b,X,y):\n",
        "\n",
        "    plot_data(X[:, 0:2], y)\n",
        "\n",
        "    if X.shape[1] <= 2:\n",
        "        plot_x = np.array([min(X[:, 0]), max(X[:, 0])])\n",
        "        plot_y = (-1. / w[1]) * (w[0] * plot_x + b)\n",
        "\n",
        "        plt.plot(plot_x, plot_y, c=\"b\")\n",
        "\n",
        "    else:\n",
        "        u = np.linspace(-1, 1.5, 50)\n",
        "        v = np.linspace(-1, 1.5, 50)\n",
        "\n",
        "        z = np.zeros((len(u), len(v)))\n",
        "\n",
        "\n",
        "        for i in range(len(u)):\n",
        "            for j in range(len(v)):\n",
        "                z[i,j] = sigmoid(np.dot(map_feature(u[i], v[j]), w) + b)\n",
        "\n",
        "\n",
        "        z = z.T\n",
        "\n",
        "\n",
        "        plt.contour(u,v,z, levels = [0.5], colors=\"g\")"
      ]
    },
    {
      "cell_type": "code",
      "execution_count": 26,
      "metadata": {
        "id": "etir_m_AAyYC"
      },
      "outputs": [
        {
          "name": "stderr",
          "output_type": "stream",
          "text": [
            "C:\\Users\\sabil\\AppData\\Local\\Temp\\ipykernel_40524\\1319808980.py:21: DeprecationWarning: Conversion of an array with ndim > 0 to a scalar is deprecated, and will error in future. Ensure you extract a single element from your array before performing this operation. (Deprecated NumPy 1.25.)\n",
            "  z[i,j] = sigmoid(np.dot(map_feature(u[i], v[j]), w) + b)\n"
          ]
        },
        {
          "data": {
            "image/png": "[encoded data removed]",
            "text/plain": [
              "<Figure size 640x480 with 1 Axes>"
            ]
          },
          "metadata": {},
          "output_type": "display_data"
        }
      ],
      "source": [
        "plot_decision_boundary(w, b, X_mapped, y_train)"
      ]
    },
    {
      "cell_type": "code",
      "execution_count": 27,
      "metadata": {
        "id": "MD2Dup4OA1ew"
      },
      "outputs": [],
      "source": [
        "#predict your training model\n",
        "def predict(X, w, b):\n",
        "  m,n=X.shape\n",
        "  p=np.zeros(m)\n",
        "  #write your code\n",
        "  for i in range(m):\n",
        "    k = sigmoid( np.dot(X[i , :] , w) + b)\n",
        "    if ( k >=0.5):\n",
        "      p[i] = 1\n",
        "    else :\n",
        "      p[i] = 0\n",
        "\n",
        "  return p"
      ]
    },
    {
      "cell_type": "code",
      "execution_count": 28,
      "metadata": {
        "id": "TAhIPFIsBTjk"
      },
      "outputs": [
        {
          "name": "stdout",
          "output_type": "stream",
          "text": [
            "Accuracy of training model: 83.898305\n"
          ]
        }
      ],
      "source": [
        "p = predict(X_mapped, w, b)\n",
        "\n",
        "print('Accuracy of training model: %f'%(np.mean(p == y_train) * 100))"
      ]
    }
  ],
  "metadata": {
    "colab": {
      "provenance": []
    },
    "kernelspec": {
      "display_name": "Python 3",
      "name": "python3"
    },
    "language_info": {
      "codemirror_mode": {
        "name": "ipython",
        "version": 3
      },
      "file_extension": ".py",
      "mimetype": "text/x-python",
      "name": "python",
      "nbconvert_exporter": "python",
      "pygments_lexer": "ipython3",
      "version": "3.12.1"
    }
  },
  "nbformat": 4,
  "nbformat_minor": 0
}
